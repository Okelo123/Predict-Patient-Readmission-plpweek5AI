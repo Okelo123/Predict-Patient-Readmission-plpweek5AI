{
  "nbformat": 4,
  "nbformat_minor": 0,
  "metadata": {
    "colab": {
      "provenance": [],
      "include_colab_link": true
    },
    "kernelspec": {
      "name": "python3",
      "display_name": "Python 3"
    },
    "language_info": {
      "name": "python"
    }
  },
  "cells": [
    {
      "cell_type": "markdown",
      "metadata": {
        "id": "view-in-github",
        "colab_type": "text"
      },
      "source": [
        "<a href=\"https://colab.research.google.com/github/Okelo123/Predict-Patient-Readmission-plpweek5AI/blob/main/week5plp.ipynb\" target=\"_parent\"><img src=\"https://colab.research.google.com/assets/colab-badge.svg\" alt=\"Open In Colab\"/></a>"
      ]
    },
    {
      "cell_type": "code",
      "execution_count": 13,
      "metadata": {
        "id": "iUgYMm-jzfAT"
      },
      "outputs": [],
      "source": [
        "!pip install -q streamlit pyngrok scikit-learn pandas numpy pyngrok"
      ]
    },
    {
      "cell_type": "code",
      "source": [
        "%%writefile app.py\n",
        "import streamlit as st\n",
        "import pandas as pd\n",
        "import numpy as np\n",
        "from sklearn.linear_model import LogisticRegression\n",
        "from sklearn.preprocessing import StandardScaler\n",
        "\n",
        "# ---------------------\n",
        "# TRAINING THE MODEL\n",
        "# ---------------------\n",
        "def train_model():\n",
        "    np.random.seed(42)\n",
        "    n_samples = 500\n",
        "    data = pd.DataFrame({\n",
        "        'age': np.random.randint(30, 90, n_samples),\n",
        "        'gender': np.random.choice(['Male', 'Female'], n_samples),\n",
        "        'num_prev_admissions': np.random.randint(0, 10, n_samples),\n",
        "        'length_of_stay': np.random.randint(1, 20, n_samples),\n",
        "        'has_chronic_illness': np.random.choice([0, 1], n_samples, p=[0.4, 0.6]),\n",
        "        'discharge_type': np.random.choice(['Home', 'Rehab', 'Nursing'], n_samples),\n",
        "        'readmitted_30_days': np.random.choice([0, 1], n_samples, p=[0.7, 0.3])\n",
        "    })\n",
        "\n",
        "    data_encoded = pd.get_dummies(data, columns=['gender', 'discharge_type'], drop_first=True)\n",
        "    X = data_encoded.drop('readmitted_30_days', axis=1)\n",
        "    y = data_encoded['readmitted_30_days']\n",
        "\n",
        "    scaler = StandardScaler()\n",
        "    X_scaled = scaler.fit_transform(X)\n",
        "\n",
        "    model = LogisticRegression(class_weight='balanced')\n",
        "    model.fit(X_scaled, y)\n",
        "\n",
        "    return model, scaler, X.columns\n",
        "\n",
        "# Train model\n",
        "model, scaler, feature_names = train_model()\n",
        "\n",
        "# ---------------------\n",
        "# Streamlit UI\n",
        "# ---------------------\n",
        "st.set_page_config(page_title=\"Patient Readmission Predictor\", layout=\"centered\")\n",
        "st.title(\"🏥 Predict Patient Readmission (within 30 Days)\")\n",
        "st.markdown(\"Fill in the patient details below to check the readmission risk.\")\n",
        "\n",
        "# Form\n",
        "age = st.slider(\"Age\", 30, 90, 45)\n",
        "gender = st.selectbox(\"Gender\", [\"Male\", \"Female\"])\n",
        "num_prev_admissions = st.slider(\"Number of Previous Admissions\", 0, 10, 1)\n",
        "length_of_stay = st.slider(\"Length of Stay (days)\", 1, 30, 5)\n",
        "has_chronic = st.radio(\"Chronic Illness\", [\"Yes\", \"No\"])\n",
        "discharge_type = st.selectbox(\"Discharge Type\", [\"Home\", \"Rehab\", \"Nursing\"])\n",
        "\n",
        "# Predict Button\n",
        "if st.button(\"Predict Readmission Risk\"):\n",
        "    input_data = pd.DataFrame({\n",
        "        'age': [age],\n",
        "        'num_prev_admissions': [num_prev_admissions],\n",
        "        'length_of_stay': [length_of_stay],\n",
        "        'has_chronic_illness': [1 if has_chronic == \"Yes\" else 0],\n",
        "        'gender_Male': [1 if gender == \"Male\" else 0],\n",
        "        'discharge_type_Nursing': [1 if discharge_type == \"Nursing\" else 0],\n",
        "        'discharge_type_Rehab': [1 if discharge_type == \"Rehab\" else 0],\n",
        "    })\n",
        "\n",
        "    for col in feature_names:\n",
        "        if col not in input_data.columns:\n",
        "            input_data[col] = 0\n",
        "    input_data = input_data[feature_names]\n",
        "\n",
        "    input_scaled = scaler.transform(input_data)\n",
        "    prediction = model.predict(input_scaled)[0]\n",
        "    probability = model.predict_proba(input_scaled)[0][1]\n",
        "\n",
        "    if prediction == 1:\n",
        "        st.error(f\"⚠️ High Risk: Patient likely to be readmitted (Confidence: {probability:.2f})\")\n",
        "    else:\n",
        "        st.success(f\"✅ Low Risk: Patient not likely to be readmitted (Confidence: {1 - probability:.2f})\")\n"
      ],
      "metadata": {
        "colab": {
          "base_uri": "https://localhost:8080/"
        },
        "id": "276TUx_czoyL",
        "outputId": "a30070c5-710b-478a-dc35-1319f8a574fb"
      },
      "execution_count": 18,
      "outputs": [
        {
          "output_type": "stream",
          "name": "stdout",
          "text": [
            "Overwriting app.py\n"
          ]
        }
      ]
    },
    {
      "cell_type": "code",
      "metadata": {
        "colab": {
          "base_uri": "https://localhost:8080/"
        },
        "id": "65e557d0",
        "outputId": "d0a18a73-e282-4cc9-9193-58fe02574d53"
      },
      "source": [
        "from pyngrok import ngrok\n",
        "from google.colab import userdata\n",
        "\n",
        "# Kill any running tunnels\n",
        "ngrok.kill()\n",
        "\n",
        "# Get your ngrok authtoken from Colab Secrets\n",
        "# Replace 'NGROK_AUTHTOKEN' with the name you used for your secret in the Secrets panel\n",
        "ngrok_authtoken = userdata.get('NGROK_AUTHTOKEN')\n",
        "\n",
        "# Set the authtoken\n",
        "ngrok.set_auth_token(ngrok_authtoken)\n",
        "\n",
        "# Launch\n",
        "# Revert ngrok.connect and add bind_tls=True\n",
        "public_url = ngrok.connect(addr=\"8501\", proto=\"http\", bind_tls=True)\n",
        "print(\"Streamlit app running at:\", public_url)\n",
        "\n",
        "!streamlit run app.py &>/content/logs.txt &"
      ],
      "execution_count": 19,
      "outputs": [
        {
          "output_type": "stream",
          "name": "stdout",
          "text": [
            "Streamlit app running at: NgrokTunnel: \"https://66ab-35-203-153-248.ngrok-free.app\" -> \"http://localhost:8501\"\n"
          ]
        }
      ]
    },
    {
      "cell_type": "code",
      "metadata": {
        "colab": {
          "base_uri": "https://localhost:8080/"
        },
        "id": "9083225f",
        "outputId": "3341ac22-30b0-4382-ba02-057852941417"
      },
      "source": [
        "!cat /content/logs.txt"
      ],
      "execution_count": 11,
      "outputs": [
        {
          "output_type": "stream",
          "name": "stdout",
          "text": [
            "Usage: streamlit run [OPTIONS] TARGET [ARGS]...\n",
            "Try 'streamlit run --help' for help.\n",
            "\n",
            "Error: Invalid value: File does not exist: app.py\n"
          ]
        }
      ]
    }
  ]
}